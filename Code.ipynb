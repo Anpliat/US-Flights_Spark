{
 "cells": [
  {
   "cell_type": "markdown",
   "metadata": {},
   "source": [
    "# <center>Exploring US Flights Data</center>"
   ]
  },
  {
   "cell_type": "markdown",
   "metadata": {},
   "source": [
    "# Preliminaries"
   ]
  },
  {
   "cell_type": "code",
   "execution_count": null,
   "metadata": {},
   "outputs": [],
   "source": [
    "import findspark\n",
    "findspark.init()\n",
    "# findspark.init('C:/.../spark-2.4.5-bin-hadoop2.7')\n",
    "findspark.find()    ## SPARK_HOME path"
   ]
  },
  {
   "cell_type": "markdown",
   "metadata": {},
   "source": [
    "* Before Spark 2.0 we had to create a SparkConf and SparkContext to interact with Spark.\n",
    "* Now we don't need to create SparkConf, SparkContext or SQLContext, as they’re encapsulated within the `SparkSession` function.\n",
    "* Only one SparkSession may be active at once. If one is already active, we need to stop the existing one."
   ]
  },
  {
   "cell_type": "code",
   "execution_count": 2,
   "metadata": {},
   "outputs": [],
   "source": [
    "import pyspark \n",
    "from pyspark.sql import SparkSession\n",
    "\n",
    "spark = SparkSession.builder.master('local[*]').config(\"spark.driver.memory\", \"16g\").appName(\"Spark_1st\").getOrCreate()\n",
    "\n",
    "# spark = SparkSession.builder.getOrCreate()\n",
    "# spark_session = SparkSession.builder.appName('APP').config(conf=SparkConf()).getOrCreate()\n",
    "\n",
    "# spark.newSession()"
   ]
  },
  {
   "cell_type": "markdown",
   "metadata": {},
   "source": [
    "## Explanation of arguments used in SparkSession\n",
    "* `'local'`: The master component of Spark will run locally within our single JVM running this code.\n",
    "\n",
    "* `'local[*]'`: Run Spark locally with as many worker threads as logical cores on our machine.\n",
    "\n",
    "    * For more information check the following link: http://spark.apache.org/docs/latest/submitting-applications.html#master-urls\n",
    "\n",
    "* In order to avoid exceed the GC (Garbage Collection) overhead limit we could manage the Spark memory limits.\n",
    "\n",
    "* Since we are running Spark in local mode, setting `spark.executor.memory` won't have any effect. The reason for this is that the Worker \"lives\" within the driver JVM process that starts when spark-shell starts and the default memory used for that is 512M. \n",
    "\n",
    "* We increased that by setting `spark.driver.memory` to 16 GigaBytes.\n"
   ]
  },
  {
   "cell_type": "markdown",
   "metadata": {},
   "source": [
    "* Of course all these are optional and are not necessary to use as shown below: \n",
    "\n",
    "    `spark =  SparkSession.builder.appName(\"Spark_1st\").getOrCreate()`"
   ]
  },
  {
   "cell_type": "markdown",
   "metadata": {},
   "source": [
    "* Below we check is Spark is correctly [setup](http://www.future-perfect.co.uk/grammar-tip/is-it-setup-set-up-or-set-up/) and running."
   ]
  },
  {
   "cell_type": "code",
   "execution_count": 3,
   "metadata": {},
   "outputs": [
    {
     "name": "stdout",
     "output_type": "stream",
     "text": [
      "+-----+\n",
      "|hello|\n",
      "+-----+\n",
      "|spark|\n",
      "+-----+\n",
      "\n"
     ]
    }
   ],
   "source": [
    "df = spark.sql(\"select 'spark' as hello\")\n",
    "df.show()"
   ]
  },
  {
   "cell_type": "markdown",
   "metadata": {},
   "source": [
    "# Obtaining the Data\n",
    "* We will investigate the  [Airline On-Time Performance Data](https://www.transtats.bts.gov/Tables.asp?DB_ID=120&DB_Name=Airline%20On-Time%20Performance%20Data&DB_Short_Name=On-Time#).  We will use the 2017 data, which are available at https://auebgr-my.sharepoint.com/:u:/g/personal/louridas_aueb_gr/EbeTzde1LddFmqNWBFWWxNcBj5tDR_zvzDHvqqcmnndeEQ?e=Tb1orW.\n",
    "\n",
    "  \n",
    "* Before reading the file we upload it in the same directory in Anaconda3 where we created this Python folder we work on.\n",
    "\n",
    "\n",
    "* Now we [*read*](https://spark.apache.org/docs/2.2.0/api/python/pyspark.sql.html) the data. We used the parameter 'inferSchema' in order to infer the input schema automatically from data. We will also used the first line as names of columns."
   ]
  },
  {
   "cell_type": "code",
   "execution_count": 4,
   "metadata": {},
   "outputs": [],
   "source": [
    "flight_data = spark.read.option(\"inferSchema\", \"true\").option(\"header\", \"true\").csv(\"flights.csv\")"
   ]
  },
  {
   "cell_type": "code",
   "execution_count": 5,
   "metadata": {
    "scrolled": true
   },
   "outputs": [
    {
     "data": {
      "text/html": [
       "<div>\n",
       "<style scoped>\n",
       "    .dataframe tbody tr th:only-of-type {\n",
       "        vertical-align: middle;\n",
       "    }\n",
       "\n",
       "    .dataframe tbody tr th {\n",
       "        vertical-align: top;\n",
       "    }\n",
       "\n",
       "    .dataframe thead th {\n",
       "        text-align: right;\n",
       "    }\n",
       "</style>\n",
       "<table border=\"1\" class=\"dataframe\">\n",
       "  <thead>\n",
       "    <tr style=\"text-align: right;\">\n",
       "      <th></th>\n",
       "      <th>FL_DATE</th>\n",
       "      <th>TAIL_NUM</th>\n",
       "      <th>CARRIER</th>\n",
       "      <th>ORIGIN</th>\n",
       "      <th>ORIGIN_CITY_NAME</th>\n",
       "      <th>DEST</th>\n",
       "      <th>DEST_CITY_NAME</th>\n",
       "      <th>DEP_TIME</th>\n",
       "      <th>DEP_DELAY</th>\n",
       "      <th>ARR_TIME</th>\n",
       "      <th>ARR_DELAY</th>\n",
       "      <th>CANCELLED</th>\n",
       "      <th>CANCELLATION_CODE</th>\n",
       "      <th>DIVERTED</th>\n",
       "      <th>CARRIER_DELAY</th>\n",
       "      <th>WEATHER_DELAY</th>\n",
       "      <th>NAS_DELAY</th>\n",
       "      <th>SECURITY_DELAY</th>\n",
       "      <th>LATE_AIRCRAFT_DELAY</th>\n",
       "      <th>_c19</th>\n",
       "    </tr>\n",
       "  </thead>\n",
       "  <tbody>\n",
       "    <tr>\n",
       "      <th>0</th>\n",
       "      <td>2018-01-01</td>\n",
       "      <td>N8891A</td>\n",
       "      <td>9E</td>\n",
       "      <td>GFK</td>\n",
       "      <td>Grand Forks, ND</td>\n",
       "      <td>MSP</td>\n",
       "      <td>Minneapolis, MN</td>\n",
       "      <td>1302</td>\n",
       "      <td>-8.0</td>\n",
       "      <td>1417</td>\n",
       "      <td>-12.0</td>\n",
       "      <td>0.0</td>\n",
       "      <td>None</td>\n",
       "      <td>0.0</td>\n",
       "      <td>NaN</td>\n",
       "      <td>NaN</td>\n",
       "      <td>NaN</td>\n",
       "      <td>NaN</td>\n",
       "      <td>NaN</td>\n",
       "      <td>None</td>\n",
       "    </tr>\n",
       "    <tr>\n",
       "      <th>1</th>\n",
       "      <td>2018-01-01</td>\n",
       "      <td>N8891A</td>\n",
       "      <td>9E</td>\n",
       "      <td>MSP</td>\n",
       "      <td>Minneapolis, MN</td>\n",
       "      <td>GFK</td>\n",
       "      <td>Grand Forks, ND</td>\n",
       "      <td>1124</td>\n",
       "      <td>9.0</td>\n",
       "      <td>1234</td>\n",
       "      <td>-11.0</td>\n",
       "      <td>0.0</td>\n",
       "      <td>None</td>\n",
       "      <td>0.0</td>\n",
       "      <td>NaN</td>\n",
       "      <td>NaN</td>\n",
       "      <td>NaN</td>\n",
       "      <td>NaN</td>\n",
       "      <td>NaN</td>\n",
       "      <td>None</td>\n",
       "    </tr>\n",
       "    <tr>\n",
       "      <th>2</th>\n",
       "      <td>2018-01-01</td>\n",
       "      <td>N293PQ</td>\n",
       "      <td>9E</td>\n",
       "      <td>DTW</td>\n",
       "      <td>Detroit, MI</td>\n",
       "      <td>SAT</td>\n",
       "      <td>San Antonio, TX</td>\n",
       "      <td>2022</td>\n",
       "      <td>4.0</td>\n",
       "      <td>2232</td>\n",
       "      <td>-50.0</td>\n",
       "      <td>0.0</td>\n",
       "      <td>None</td>\n",
       "      <td>0.0</td>\n",
       "      <td>NaN</td>\n",
       "      <td>NaN</td>\n",
       "      <td>NaN</td>\n",
       "      <td>NaN</td>\n",
       "      <td>NaN</td>\n",
       "      <td>None</td>\n",
       "    </tr>\n",
       "    <tr>\n",
       "      <th>3</th>\n",
       "      <td>2018-01-01</td>\n",
       "      <td>N295PQ</td>\n",
       "      <td>9E</td>\n",
       "      <td>BOS</td>\n",
       "      <td>Boston, MA</td>\n",
       "      <td>CVG</td>\n",
       "      <td>Cincinnati, OH</td>\n",
       "      <td>1349</td>\n",
       "      <td>104.0</td>\n",
       "      <td>1613</td>\n",
       "      <td>94.0</td>\n",
       "      <td>0.0</td>\n",
       "      <td>None</td>\n",
       "      <td>0.0</td>\n",
       "      <td>79.0</td>\n",
       "      <td>0.0</td>\n",
       "      <td>0.0</td>\n",
       "      <td>0.0</td>\n",
       "      <td>15.0</td>\n",
       "      <td>None</td>\n",
       "    </tr>\n",
       "    <tr>\n",
       "      <th>4</th>\n",
       "      <td>2018-01-01</td>\n",
       "      <td>N605LR</td>\n",
       "      <td>9E</td>\n",
       "      <td>MSP</td>\n",
       "      <td>Minneapolis, MN</td>\n",
       "      <td>CLT</td>\n",
       "      <td>Charlotte, NC</td>\n",
       "      <td>846</td>\n",
       "      <td>1.0</td>\n",
       "      <td>1214</td>\n",
       "      <td>-14.0</td>\n",
       "      <td>0.0</td>\n",
       "      <td>None</td>\n",
       "      <td>0.0</td>\n",
       "      <td>NaN</td>\n",
       "      <td>NaN</td>\n",
       "      <td>NaN</td>\n",
       "      <td>NaN</td>\n",
       "      <td>NaN</td>\n",
       "      <td>None</td>\n",
       "    </tr>\n",
       "  </tbody>\n",
       "</table>\n",
       "</div>"
      ],
      "text/plain": [
       "     FL_DATE TAIL_NUM CARRIER ORIGIN ORIGIN_CITY_NAME DEST   DEST_CITY_NAME  \\\n",
       "0 2018-01-01   N8891A      9E    GFK  Grand Forks, ND  MSP  Minneapolis, MN   \n",
       "1 2018-01-01   N8891A      9E    MSP  Minneapolis, MN  GFK  Grand Forks, ND   \n",
       "2 2018-01-01   N293PQ      9E    DTW      Detroit, MI  SAT  San Antonio, TX   \n",
       "3 2018-01-01   N295PQ      9E    BOS       Boston, MA  CVG   Cincinnati, OH   \n",
       "4 2018-01-01   N605LR      9E    MSP  Minneapolis, MN  CLT    Charlotte, NC   \n",
       "\n",
       "   DEP_TIME  DEP_DELAY  ARR_TIME  ARR_DELAY  CANCELLED CANCELLATION_CODE  \\\n",
       "0      1302       -8.0      1417      -12.0        0.0              None   \n",
       "1      1124        9.0      1234      -11.0        0.0              None   \n",
       "2      2022        4.0      2232      -50.0        0.0              None   \n",
       "3      1349      104.0      1613       94.0        0.0              None   \n",
       "4       846        1.0      1214      -14.0        0.0              None   \n",
       "\n",
       "   DIVERTED  CARRIER_DELAY  WEATHER_DELAY  NAS_DELAY  SECURITY_DELAY  \\\n",
       "0       0.0            NaN            NaN        NaN             NaN   \n",
       "1       0.0            NaN            NaN        NaN             NaN   \n",
       "2       0.0            NaN            NaN        NaN             NaN   \n",
       "3       0.0           79.0            0.0        0.0             0.0   \n",
       "4       0.0            NaN            NaN        NaN             NaN   \n",
       "\n",
       "   LATE_AIRCRAFT_DELAY  _c19  \n",
       "0                  NaN  None  \n",
       "1                  NaN  None  \n",
       "2                  NaN  None  \n",
       "3                 15.0  None  \n",
       "4                  NaN  None  "
      ]
     },
     "execution_count": 5,
     "metadata": {},
     "output_type": "execute_result"
    }
   ],
   "source": [
    "flight_data.limit(5).toPandas()"
   ]
  },
  {
   "cell_type": "code",
   "execution_count": 6,
   "metadata": {},
   "outputs": [
    {
     "name": "stdout",
     "output_type": "stream",
     "text": [
      "(5, 20)\n"
     ]
    }
   ],
   "source": [
    "print(flight_data.limit(5).toPandas().shape)"
   ]
  },
  {
   "cell_type": "code",
   "execution_count": 7,
   "metadata": {},
   "outputs": [
    {
     "data": {
      "text/plain": [
       "7213446"
      ]
     },
     "execution_count": 7,
     "metadata": {},
     "output_type": "execute_result"
    }
   ],
   "source": [
    "## Then read the number of lines of the RDD:\n",
    "total_rows = flight_data.count()\n",
    "total_rows"
   ]
  },
  {
   "cell_type": "markdown",
   "metadata": {},
   "source": [
    "* We observe that our dataset has 7213446 rows and 20 columns."
   ]
  },
  {
   "cell_type": "code",
   "execution_count": 8,
   "metadata": {},
   "outputs": [
    {
     "data": {
      "text/plain": [
       "Row(FL_DATE=datetime.datetime(2018, 1, 1, 0, 0), TAIL_NUM='N8891A', CARRIER='9E', ORIGIN='GFK', ORIGIN_CITY_NAME='Grand Forks, ND', DEST='MSP', DEST_CITY_NAME='Minneapolis, MN', DEP_TIME=1302, DEP_DELAY=-8.0, ARR_TIME=1417, ARR_DELAY=-12.0, CANCELLED=0.0, CANCELLATION_CODE=None, DIVERTED=0.0, CARRIER_DELAY=None, WEATHER_DELAY=None, NAS_DELAY=None, SECURITY_DELAY=None, LATE_AIRCRAFT_DELAY=None, _c19=None)"
      ]
     },
     "execution_count": 8,
     "metadata": {},
     "output_type": "execute_result"
    }
   ],
   "source": [
    "# Display the first line of the RDD:\n",
    "flight_data.first()"
   ]
  },
  {
   "cell_type": "markdown",
   "metadata": {},
   "source": [
    "* Below we see the data types inferred for each column."
   ]
  },
  {
   "cell_type": "code",
   "execution_count": 9,
   "metadata": {},
   "outputs": [
    {
     "name": "stdout",
     "output_type": "stream",
     "text": [
      "root\n",
      " |-- FL_DATE: timestamp (nullable = true)\n",
      " |-- TAIL_NUM: string (nullable = true)\n",
      " |-- CARRIER: string (nullable = true)\n",
      " |-- ORIGIN: string (nullable = true)\n",
      " |-- ORIGIN_CITY_NAME: string (nullable = true)\n",
      " |-- DEST: string (nullable = true)\n",
      " |-- DEST_CITY_NAME: string (nullable = true)\n",
      " |-- DEP_TIME: integer (nullable = true)\n",
      " |-- DEP_DELAY: double (nullable = true)\n",
      " |-- ARR_TIME: integer (nullable = true)\n",
      " |-- ARR_DELAY: double (nullable = true)\n",
      " |-- CANCELLED: double (nullable = true)\n",
      " |-- CANCELLATION_CODE: string (nullable = true)\n",
      " |-- DIVERTED: double (nullable = true)\n",
      " |-- CARRIER_DELAY: double (nullable = true)\n",
      " |-- WEATHER_DELAY: double (nullable = true)\n",
      " |-- NAS_DELAY: double (nullable = true)\n",
      " |-- SECURITY_DELAY: double (nullable = true)\n",
      " |-- LATE_AIRCRAFT_DELAY: double (nullable = true)\n",
      " |-- _c19: string (nullable = true)\n",
      "\n"
     ]
    }
   ],
   "source": [
    "# flight_data.dtypes\n",
    "flight_data.printSchema()"
   ]
  },
  {
   "cell_type": "markdown",
   "metadata": {},
   "source": [
    "* We observed that we have extra column named '_c19' where as we see below, all of its values are equal to null.\n",
    "So we removed this column from the dataset."
   ]
  },
  {
   "cell_type": "code",
   "execution_count": 10,
   "metadata": {},
   "outputs": [
    {
     "name": "stdout",
     "output_type": "stream",
     "text": [
      "+----+\n",
      "|_c19|\n",
      "+----+\n",
      "|null|\n",
      "+----+\n",
      "\n"
     ]
    }
   ],
   "source": [
    "flight_data.select('_c19').distinct().show()"
   ]
  },
  {
   "cell_type": "code",
   "execution_count": 11,
   "metadata": {},
   "outputs": [
    {
     "name": "stdout",
     "output_type": "stream",
     "text": [
      "(5, 19)\n"
     ]
    }
   ],
   "source": [
    "flight_data = flight_data.drop('_c19')\n",
    "print(flight_data.limit(5).toPandas().shape)"
   ]
  },
  {
   "cell_type": "markdown",
   "metadata": {},
   "source": [
    "## <ins>Comment for partitions</ins>"
   ]
  },
  {
   "cell_type": "markdown",
   "metadata": {},
   "source": [
    "* Spark breaks the data into *partitions*.\n",
    "\n",
    "* A partition is a collection of rows that sits on a single computer in your cluster."
   ]
  },
  {
   "cell_type": "code",
   "execution_count": 12,
   "metadata": {},
   "outputs": [
    {
     "data": {
      "text/plain": [
       "7213446"
      ]
     },
     "execution_count": 12,
     "metadata": {},
     "output_type": "execute_result"
    }
   ],
   "source": [
    "flight_data.count()"
   ]
  },
  {
   "cell_type": "code",
   "execution_count": 13,
   "metadata": {},
   "outputs": [
    {
     "name": "stdout",
     "output_type": "stream",
     "text": [
      "8\n"
     ]
    }
   ],
   "source": [
    "print(flight_data.rdd.getNumPartitions())"
   ]
  },
  {
   "cell_type": "markdown",
   "metadata": {},
   "source": [
    "* The data contain over 7,200,000 rows, which will split into 8 partitions. that means that approximately every partition will contain 900,000 rows. This means that each partition will contain a file of over 100MB. So, we understand that 8 partitions is a small number for our dataset and does not effectively use the all resources in the cluster.\n",
    "\n",
    "* We could further repartition the dataframe.\n",
    "`The repartition algorithm` does a full shuffle of the data and creates equal sized partitions of data. It can be used to either increase or decrease the number of partitions in a dataframe.\n",
    "\n",
    "* For example, we have a dataset with over 7,200,000 rows and size of 850 MB.\n",
    "    * <ins>with 1000 partitions</ins>: each file will have approximately 7,200 rows and size of 920 kB. \n",
    "    * <ins>with 4000 partitions</ins>: each file will have approximately 1,800 rows and size of 230 kB. \n",
    "\n",
    "* Repartition imporoves performance as it allows us to process data a lot faster."
   ]
  },
  {
   "cell_type": "code",
   "execution_count": 14,
   "metadata": {},
   "outputs": [
    {
     "name": "stdout",
     "output_type": "stream",
     "text": [
      "1000\n"
     ]
    }
   ],
   "source": [
    "partitioned_data = flight_data.repartition(1000)\n",
    "print(partitioned_data.rdd.getNumPartitions())\n",
    "# partitioned_data.write.mode(\"overwrite\").csv(\"data/flights_part.csv\", header=True)"
   ]
  },
  {
   "cell_type": "code",
   "execution_count": 15,
   "metadata": {},
   "outputs": [],
   "source": [
    "# partitioned_data.write.mode(\"overwrite\").csv(\"data/flights_part.csv\", header=True)\n",
    "# flight_data21 = spark.read.option(\"inferSchema\", \"true\").option(\"header\", \"true\").csv(\"data/flights_part.csv\")"
   ]
  },
  {
   "cell_type": "code",
   "execution_count": 16,
   "metadata": {},
   "outputs": [
    {
     "name": "stdout",
     "output_type": "stream",
     "text": [
      "7213446\n"
     ]
    }
   ],
   "source": [
    "print(partitioned_data.count())\n",
    "# flight_data = partitioned_data"
   ]
  },
  {
   "cell_type": "markdown",
   "metadata": {},
   "source": [
    "We will only keep the subset of columns that are of interest to us."
   ]
  },
  {
   "cell_type": "code",
   "execution_count": 17,
   "metadata": {},
   "outputs": [
    {
     "data": {
      "text/html": [
       "<div>\n",
       "<style scoped>\n",
       "    .dataframe tbody tr th:only-of-type {\n",
       "        vertical-align: middle;\n",
       "    }\n",
       "\n",
       "    .dataframe tbody tr th {\n",
       "        vertical-align: top;\n",
       "    }\n",
       "\n",
       "    .dataframe thead th {\n",
       "        text-align: right;\n",
       "    }\n",
       "</style>\n",
       "<table border=\"1\" class=\"dataframe\">\n",
       "  <thead>\n",
       "    <tr style=\"text-align: right;\">\n",
       "      <th></th>\n",
       "      <th>CARRIER</th>\n",
       "      <th>ORIGIN</th>\n",
       "      <th>ORIGIN_CITY_NAME</th>\n",
       "      <th>DEP_TIME</th>\n",
       "      <th>DEP_DELAY</th>\n",
       "      <th>CANCELLED</th>\n",
       "    </tr>\n",
       "  </thead>\n",
       "  <tbody>\n",
       "    <tr>\n",
       "      <th>0</th>\n",
       "      <td>9E</td>\n",
       "      <td>GFK</td>\n",
       "      <td>Grand Forks, ND</td>\n",
       "      <td>1302</td>\n",
       "      <td>-8.0</td>\n",
       "      <td>0.0</td>\n",
       "    </tr>\n",
       "    <tr>\n",
       "      <th>1</th>\n",
       "      <td>9E</td>\n",
       "      <td>MSP</td>\n",
       "      <td>Minneapolis, MN</td>\n",
       "      <td>1124</td>\n",
       "      <td>9.0</td>\n",
       "      <td>0.0</td>\n",
       "    </tr>\n",
       "    <tr>\n",
       "      <th>2</th>\n",
       "      <td>9E</td>\n",
       "      <td>DTW</td>\n",
       "      <td>Detroit, MI</td>\n",
       "      <td>2022</td>\n",
       "      <td>4.0</td>\n",
       "      <td>0.0</td>\n",
       "    </tr>\n",
       "    <tr>\n",
       "      <th>3</th>\n",
       "      <td>9E</td>\n",
       "      <td>BOS</td>\n",
       "      <td>Boston, MA</td>\n",
       "      <td>1349</td>\n",
       "      <td>104.0</td>\n",
       "      <td>0.0</td>\n",
       "    </tr>\n",
       "    <tr>\n",
       "      <th>4</th>\n",
       "      <td>9E</td>\n",
       "      <td>MSP</td>\n",
       "      <td>Minneapolis, MN</td>\n",
       "      <td>846</td>\n",
       "      <td>1.0</td>\n",
       "      <td>0.0</td>\n",
       "    </tr>\n",
       "  </tbody>\n",
       "</table>\n",
       "</div>"
      ],
      "text/plain": [
       "  CARRIER ORIGIN ORIGIN_CITY_NAME  DEP_TIME  DEP_DELAY  CANCELLED\n",
       "0      9E    GFK  Grand Forks, ND      1302       -8.0        0.0\n",
       "1      9E    MSP  Minneapolis, MN      1124        9.0        0.0\n",
       "2      9E    DTW      Detroit, MI      2022        4.0        0.0\n",
       "3      9E    BOS       Boston, MA      1349      104.0        0.0\n",
       "4      9E    MSP  Minneapolis, MN       846        1.0        0.0"
      ]
     },
     "execution_count": 17,
     "metadata": {},
     "output_type": "execute_result"
    }
   ],
   "source": [
    "# temp1 = flight_data[['CARRIER','ORIGIN','ORIGIN_CITY_NAME','DEP_TIME','DEP_DELAY']]\n",
    "temp1 = flight_data.select('CARRIER','ORIGIN','ORIGIN_CITY_NAME','DEP_TIME','DEP_DELAY','CANCELLED')\n",
    "temp1.limit(5).toPandas()"
   ]
  },
  {
   "cell_type": "code",
   "execution_count": 18,
   "metadata": {},
   "outputs": [
    {
     "data": {
      "text/plain": [
       "7213446"
      ]
     },
     "execution_count": 18,
     "metadata": {},
     "output_type": "execute_result"
    }
   ],
   "source": [
    "temp1.count()"
   ]
  },
  {
   "cell_type": "markdown",
   "metadata": {},
   "source": [
    "* Before continuing with our analysis, we replace all the missing values in the data (NAs) with zero."
   ]
  },
  {
   "cell_type": "code",
   "execution_count": 19,
   "metadata": {},
   "outputs": [],
   "source": [
    "temp82 = temp1.na.fill(0)"
   ]
  },
  {
   "cell_type": "markdown",
   "metadata": {},
   "source": [
    "# <center>`\"Misery Index\" for airports`</center>\n",
    "## <ins>Delayed flight</ins>\n",
    "* A flight delay is when an airline flight takes off and/or lands later than its scheduled time. \n",
    "\n",
    "* The Federal Aviation Administration (FAA) considers a flight to be delayed when it is <b>15 minutes later</b> than its scheduled time. This will be the criterion we will also use in our analysis.\n",
    "\n",
    "* In order to indicate whether a flight was delayed or not based on the afforementioned criterion we will create a new column. As always in Spark we will save the result in a new Dataframe."
   ]
  },
  {
   "cell_type": "code",
   "execution_count": 20,
   "metadata": {},
   "outputs": [
    {
     "data": {
      "text/html": [
       "<div>\n",
       "<style scoped>\n",
       "    .dataframe tbody tr th:only-of-type {\n",
       "        vertical-align: middle;\n",
       "    }\n",
       "\n",
       "    .dataframe tbody tr th {\n",
       "        vertical-align: top;\n",
       "    }\n",
       "\n",
       "    .dataframe thead th {\n",
       "        text-align: right;\n",
       "    }\n",
       "</style>\n",
       "<table border=\"1\" class=\"dataframe\">\n",
       "  <thead>\n",
       "    <tr style=\"text-align: right;\">\n",
       "      <th></th>\n",
       "      <th>CARRIER</th>\n",
       "      <th>ORIGIN</th>\n",
       "      <th>ORIGIN_CITY_NAME</th>\n",
       "      <th>DEP_TIME</th>\n",
       "      <th>DEP_DELAY</th>\n",
       "      <th>CANCELLED</th>\n",
       "      <th>Delayed_flights</th>\n",
       "    </tr>\n",
       "  </thead>\n",
       "  <tbody>\n",
       "    <tr>\n",
       "      <th>0</th>\n",
       "      <td>9E</td>\n",
       "      <td>GFK</td>\n",
       "      <td>Grand Forks, ND</td>\n",
       "      <td>1302</td>\n",
       "      <td>-8.0</td>\n",
       "      <td>0.0</td>\n",
       "      <td>False</td>\n",
       "    </tr>\n",
       "    <tr>\n",
       "      <th>1</th>\n",
       "      <td>9E</td>\n",
       "      <td>MSP</td>\n",
       "      <td>Minneapolis, MN</td>\n",
       "      <td>1124</td>\n",
       "      <td>9.0</td>\n",
       "      <td>0.0</td>\n",
       "      <td>False</td>\n",
       "    </tr>\n",
       "    <tr>\n",
       "      <th>2</th>\n",
       "      <td>9E</td>\n",
       "      <td>DTW</td>\n",
       "      <td>Detroit, MI</td>\n",
       "      <td>2022</td>\n",
       "      <td>4.0</td>\n",
       "      <td>0.0</td>\n",
       "      <td>False</td>\n",
       "    </tr>\n",
       "    <tr>\n",
       "      <th>3</th>\n",
       "      <td>9E</td>\n",
       "      <td>BOS</td>\n",
       "      <td>Boston, MA</td>\n",
       "      <td>1349</td>\n",
       "      <td>104.0</td>\n",
       "      <td>0.0</td>\n",
       "      <td>True</td>\n",
       "    </tr>\n",
       "    <tr>\n",
       "      <th>4</th>\n",
       "      <td>9E</td>\n",
       "      <td>MSP</td>\n",
       "      <td>Minneapolis, MN</td>\n",
       "      <td>846</td>\n",
       "      <td>1.0</td>\n",
       "      <td>0.0</td>\n",
       "      <td>False</td>\n",
       "    </tr>\n",
       "    <tr>\n",
       "      <th>5</th>\n",
       "      <td>9E</td>\n",
       "      <td>SYR</td>\n",
       "      <td>Syracuse, NY</td>\n",
       "      <td>1820</td>\n",
       "      <td>5.0</td>\n",
       "      <td>0.0</td>\n",
       "      <td>False</td>\n",
       "    </tr>\n",
       "  </tbody>\n",
       "</table>\n",
       "</div>"
      ],
      "text/plain": [
       "  CARRIER ORIGIN ORIGIN_CITY_NAME  DEP_TIME  DEP_DELAY  CANCELLED  \\\n",
       "0      9E    GFK  Grand Forks, ND      1302       -8.0        0.0   \n",
       "1      9E    MSP  Minneapolis, MN      1124        9.0        0.0   \n",
       "2      9E    DTW      Detroit, MI      2022        4.0        0.0   \n",
       "3      9E    BOS       Boston, MA      1349      104.0        0.0   \n",
       "4      9E    MSP  Minneapolis, MN       846        1.0        0.0   \n",
       "5      9E    SYR     Syracuse, NY      1820        5.0        0.0   \n",
       "\n",
       "   Delayed_flights  \n",
       "0            False  \n",
       "1            False  \n",
       "2            False  \n",
       "3             True  \n",
       "4            False  \n",
       "5            False  "
      ]
     },
     "execution_count": 20,
     "metadata": {},
     "output_type": "execute_result"
    }
   ],
   "source": [
    "temp24 = temp82.withColumn(\"Delayed_flights\",temp82['DEP_DELAY']>15.0)\n",
    "temp24.limit(6).toPandas()\n",
    "\n",
    "# temp3 = temp82.where(temp82['DEP_DELAY'] >=0)    # 2nd way: filter the rows"
   ]
  },
  {
   "cell_type": "markdown",
   "metadata": {},
   "source": [
    "* We can also encode the previously created column if we wanted."
   ]
  },
  {
   "cell_type": "code",
   "execution_count": 21,
   "metadata": {},
   "outputs": [
    {
     "data": {
      "text/html": [
       "<div>\n",
       "<style scoped>\n",
       "    .dataframe tbody tr th:only-of-type {\n",
       "        vertical-align: middle;\n",
       "    }\n",
       "\n",
       "    .dataframe tbody tr th {\n",
       "        vertical-align: top;\n",
       "    }\n",
       "\n",
       "    .dataframe thead th {\n",
       "        text-align: right;\n",
       "    }\n",
       "</style>\n",
       "<table border=\"1\" class=\"dataframe\">\n",
       "  <thead>\n",
       "    <tr style=\"text-align: right;\">\n",
       "      <th></th>\n",
       "      <th>CARRIER</th>\n",
       "      <th>ORIGIN</th>\n",
       "      <th>ORIGIN_CITY_NAME</th>\n",
       "      <th>DEP_TIME</th>\n",
       "      <th>DEP_DELAY</th>\n",
       "      <th>CANCELLED</th>\n",
       "      <th>Delayed_flights</th>\n",
       "      <th>Delayed_flights_coded</th>\n",
       "    </tr>\n",
       "  </thead>\n",
       "  <tbody>\n",
       "    <tr>\n",
       "      <th>0</th>\n",
       "      <td>9E</td>\n",
       "      <td>GFK</td>\n",
       "      <td>Grand Forks, ND</td>\n",
       "      <td>1302</td>\n",
       "      <td>-8.0</td>\n",
       "      <td>0.0</td>\n",
       "      <td>False</td>\n",
       "      <td>0</td>\n",
       "    </tr>\n",
       "    <tr>\n",
       "      <th>1</th>\n",
       "      <td>9E</td>\n",
       "      <td>MSP</td>\n",
       "      <td>Minneapolis, MN</td>\n",
       "      <td>1124</td>\n",
       "      <td>9.0</td>\n",
       "      <td>0.0</td>\n",
       "      <td>False</td>\n",
       "      <td>0</td>\n",
       "    </tr>\n",
       "    <tr>\n",
       "      <th>2</th>\n",
       "      <td>9E</td>\n",
       "      <td>DTW</td>\n",
       "      <td>Detroit, MI</td>\n",
       "      <td>2022</td>\n",
       "      <td>4.0</td>\n",
       "      <td>0.0</td>\n",
       "      <td>False</td>\n",
       "      <td>0</td>\n",
       "    </tr>\n",
       "    <tr>\n",
       "      <th>3</th>\n",
       "      <td>9E</td>\n",
       "      <td>BOS</td>\n",
       "      <td>Boston, MA</td>\n",
       "      <td>1349</td>\n",
       "      <td>104.0</td>\n",
       "      <td>0.0</td>\n",
       "      <td>True</td>\n",
       "      <td>1</td>\n",
       "    </tr>\n",
       "    <tr>\n",
       "      <th>4</th>\n",
       "      <td>9E</td>\n",
       "      <td>MSP</td>\n",
       "      <td>Minneapolis, MN</td>\n",
       "      <td>846</td>\n",
       "      <td>1.0</td>\n",
       "      <td>0.0</td>\n",
       "      <td>False</td>\n",
       "      <td>0</td>\n",
       "    </tr>\n",
       "    <tr>\n",
       "      <th>5</th>\n",
       "      <td>9E</td>\n",
       "      <td>SYR</td>\n",
       "      <td>Syracuse, NY</td>\n",
       "      <td>1820</td>\n",
       "      <td>5.0</td>\n",
       "      <td>0.0</td>\n",
       "      <td>False</td>\n",
       "      <td>0</td>\n",
       "    </tr>\n",
       "  </tbody>\n",
       "</table>\n",
       "</div>"
      ],
      "text/plain": [
       "  CARRIER ORIGIN ORIGIN_CITY_NAME  DEP_TIME  DEP_DELAY  CANCELLED  \\\n",
       "0      9E    GFK  Grand Forks, ND      1302       -8.0        0.0   \n",
       "1      9E    MSP  Minneapolis, MN      1124        9.0        0.0   \n",
       "2      9E    DTW      Detroit, MI      2022        4.0        0.0   \n",
       "3      9E    BOS       Boston, MA      1349      104.0        0.0   \n",
       "4      9E    MSP  Minneapolis, MN       846        1.0        0.0   \n",
       "5      9E    SYR     Syracuse, NY      1820        5.0        0.0   \n",
       "\n",
       "   Delayed_flights  Delayed_flights_coded  \n",
       "0            False                      0  \n",
       "1            False                      0  \n",
       "2            False                      0  \n",
       "3             True                      1  \n",
       "4            False                      0  \n",
       "5            False                      0  "
      ]
     },
     "execution_count": 21,
     "metadata": {},
     "output_type": "execute_result"
    }
   ],
   "source": [
    "from pyspark.sql.types import IntegerType\n",
    "temp24_coded = temp24.withColumn(\"Delayed_flights_coded\", temp24[\"Delayed_flights\"].cast(IntegerType()))\n",
    "temp24_coded.limit(6).toPandas()"
   ]
  },
  {
   "cell_type": "markdown",
   "metadata": {},
   "source": [
    "## <ins>Cancelled flight</ins>\n",
    "\n",
    "* We also observed that some flights that were eventually cancelled present a delay in their departure. This is not logical so we will exclude them from analysis.\n",
    "\n",
    "* The results which justify our reasoning are presented below:"
   ]
  },
  {
   "cell_type": "code",
   "execution_count": 22,
   "metadata": {},
   "outputs": [
    {
     "name": "stdout",
     "output_type": "stream",
     "text": [
      "Number of flights that have been cancelled: 116584\n"
     ]
    }
   ],
   "source": [
    "temp76 = temp82.where(temp82['CANCELLED'] ==1)\n",
    "print('Number of flights that have been cancelled:',temp76.count())"
   ]
  },
  {
   "cell_type": "code",
   "execution_count": 23,
   "metadata": {},
   "outputs": [
    {
     "name": "stdout",
     "output_type": "stream",
     "text": [
      "3889 flights have presented a delay in their departure\n"
     ]
    }
   ],
   "source": [
    "temp76 = temp82.where(temp82['CANCELLED'] ==1)\n",
    "# temp76.select('DEP_DELAY').distinct().toPandas()\n",
    "print(temp76.where(temp76['DEP_DELAY']!=0).count(),'flights have presented a delay in their departure')"
   ]
  },
  {
   "cell_type": "markdown",
   "metadata": {},
   "source": [
    "* Keep only the data of the flights that have not been cancelled:"
   ]
  },
  {
   "cell_type": "code",
   "execution_count": 24,
   "metadata": {},
   "outputs": [
    {
     "name": "stdout",
     "output_type": "stream",
     "text": [
      "7096862\n"
     ]
    },
    {
     "data": {
      "text/html": [
       "<div>\n",
       "<style scoped>\n",
       "    .dataframe tbody tr th:only-of-type {\n",
       "        vertical-align: middle;\n",
       "    }\n",
       "\n",
       "    .dataframe tbody tr th {\n",
       "        vertical-align: top;\n",
       "    }\n",
       "\n",
       "    .dataframe thead th {\n",
       "        text-align: right;\n",
       "    }\n",
       "</style>\n",
       "<table border=\"1\" class=\"dataframe\">\n",
       "  <thead>\n",
       "    <tr style=\"text-align: right;\">\n",
       "      <th></th>\n",
       "      <th>CARRIER</th>\n",
       "      <th>ORIGIN</th>\n",
       "      <th>ORIGIN_CITY_NAME</th>\n",
       "      <th>DEP_TIME</th>\n",
       "      <th>DEP_DELAY</th>\n",
       "      <th>CANCELLED</th>\n",
       "      <th>Delayed_flights</th>\n",
       "      <th>Delayed_flights_coded</th>\n",
       "    </tr>\n",
       "  </thead>\n",
       "  <tbody>\n",
       "    <tr>\n",
       "      <th>0</th>\n",
       "      <td>9E</td>\n",
       "      <td>GFK</td>\n",
       "      <td>Grand Forks, ND</td>\n",
       "      <td>1302</td>\n",
       "      <td>-8.0</td>\n",
       "      <td>0.0</td>\n",
       "      <td>False</td>\n",
       "      <td>0</td>\n",
       "    </tr>\n",
       "    <tr>\n",
       "      <th>1</th>\n",
       "      <td>9E</td>\n",
       "      <td>MSP</td>\n",
       "      <td>Minneapolis, MN</td>\n",
       "      <td>1124</td>\n",
       "      <td>9.0</td>\n",
       "      <td>0.0</td>\n",
       "      <td>False</td>\n",
       "      <td>0</td>\n",
       "    </tr>\n",
       "    <tr>\n",
       "      <th>2</th>\n",
       "      <td>9E</td>\n",
       "      <td>DTW</td>\n",
       "      <td>Detroit, MI</td>\n",
       "      <td>2022</td>\n",
       "      <td>4.0</td>\n",
       "      <td>0.0</td>\n",
       "      <td>False</td>\n",
       "      <td>0</td>\n",
       "    </tr>\n",
       "  </tbody>\n",
       "</table>\n",
       "</div>"
      ],
      "text/plain": [
       "  CARRIER ORIGIN ORIGIN_CITY_NAME  DEP_TIME  DEP_DELAY  CANCELLED  \\\n",
       "0      9E    GFK  Grand Forks, ND      1302       -8.0        0.0   \n",
       "1      9E    MSP  Minneapolis, MN      1124        9.0        0.0   \n",
       "2      9E    DTW      Detroit, MI      2022        4.0        0.0   \n",
       "\n",
       "   Delayed_flights  Delayed_flights_coded  \n",
       "0            False                      0  \n",
       "1            False                      0  \n",
       "2            False                      0  "
      ]
     },
     "execution_count": 24,
     "metadata": {},
     "output_type": "execute_result"
    }
   ],
   "source": [
    "temp24_coded = temp24_coded.where(temp24_coded['CANCELLED'] ==0) \n",
    "print(temp24_coded.count())\n",
    "temp24_coded.limit(3).toPandas()"
   ]
  },
  {
   "cell_type": "markdown",
   "metadata": {},
   "source": [
    "* [*createOrReplaceTempView*](https://spark.apache.org/docs/2.2.0/api/R/createOrReplaceTempView.html) is used when we want to store a table for a particular spark session. \\\n",
    "It creates (or replaces if that view name already exists) a temporary view using a SparkDataFrame in the Spark Session. \\\n",
    "We can then use like a hive table in Spark SQL and run SQL query on top of that."
   ]
  },
  {
   "cell_type": "code",
   "execution_count": 25,
   "metadata": {},
   "outputs": [],
   "source": [
    "temp24_coded.createOrReplaceTempView(\"temp24_coded\")"
   ]
  },
  {
   "cell_type": "markdown",
   "metadata": {},
   "source": [
    "Your criterion for outliers will be the airports in the lowest 1% percentile in the number of flights."
   ]
  },
  {
   "cell_type": "markdown",
   "metadata": {},
   "source": [
    "* Outliers criterion: We will only keep the airports that have more than (7096862*0.01=)71,000 flights, which corresponds to the lowest 1% percentile in the number of flights.\n",
    "\n",
    "* Process:\n",
    "    * 1) Use an SQL query to find the total flights for each airport\n",
    "    * 2) We will find the percentile in the number of flights\n",
    "    * 3) Find which airports correspond to the lowest 1% percentile and exclude them"
   ]
  },
  {
   "cell_type": "code",
   "execution_count": 26,
   "metadata": {},
   "outputs": [
    {
     "name": "stdout",
     "output_type": "stream",
     "text": [
      "358 rows\n"
     ]
    },
    {
     "data": {
      "text/html": [
       "<div>\n",
       "<style scoped>\n",
       "    .dataframe tbody tr th:only-of-type {\n",
       "        vertical-align: middle;\n",
       "    }\n",
       "\n",
       "    .dataframe tbody tr th {\n",
       "        vertical-align: top;\n",
       "    }\n",
       "\n",
       "    .dataframe thead th {\n",
       "        text-align: right;\n",
       "    }\n",
       "</style>\n",
       "<table border=\"1\" class=\"dataframe\">\n",
       "  <thead>\n",
       "    <tr style=\"text-align: right;\">\n",
       "      <th></th>\n",
       "      <th>ORIGIN</th>\n",
       "      <th>total_flights</th>\n",
       "    </tr>\n",
       "  </thead>\n",
       "  <tbody>\n",
       "    <tr>\n",
       "      <th>0</th>\n",
       "      <td>BGM</td>\n",
       "      <td>909</td>\n",
       "    </tr>\n",
       "    <tr>\n",
       "      <th>1</th>\n",
       "      <td>PSE</td>\n",
       "      <td>779</td>\n",
       "    </tr>\n",
       "    <tr>\n",
       "      <th>2</th>\n",
       "      <td>INL</td>\n",
       "      <td>639</td>\n",
       "    </tr>\n",
       "    <tr>\n",
       "      <th>3</th>\n",
       "      <td>DLG</td>\n",
       "      <td>81</td>\n",
       "    </tr>\n",
       "    <tr>\n",
       "      <th>4</th>\n",
       "      <td>MSY</td>\n",
       "      <td>55221</td>\n",
       "    </tr>\n",
       "  </tbody>\n",
       "</table>\n",
       "</div>"
      ],
      "text/plain": [
       "  ORIGIN  total_flights\n",
       "0    BGM            909\n",
       "1    PSE            779\n",
       "2    INL            639\n",
       "3    DLG             81\n",
       "4    MSY          55221"
      ]
     },
     "execution_count": 26,
     "metadata": {},
     "output_type": "execute_result"
    }
   ],
   "source": [
    "temp861 = spark.sql(\"\"\"\n",
    "    SELECT ORIGIN,count(ORIGIN) as total_flights\n",
    "    FROM temp24_coded\n",
    "    GROUP BY ORIGIN\n",
    "    \"\"\")\n",
    "\n",
    "print(temp861.count(),'rows')\n",
    "temp861.limit(5).toPandas()"
   ]
  },
  {
   "cell_type": "markdown",
   "metadata": {},
   "source": [
    "* Use the <b>percent_rank</b> [window function](https://spark.apache.org/docs/2.1.0/api/R/percent_rank.html), which returns the percentile of rows in the number of flights for each airport.\n",
    "\n",
    "* Find the airports that correspond to the lowest 1% percentile."
   ]
  },
  {
   "cell_type": "code",
   "execution_count": 27,
   "metadata": {},
   "outputs": [
    {
     "name": "stdout",
     "output_type": "stream",
     "text": [
      "358 rows\n"
     ]
    },
    {
     "data": {
      "text/html": [
       "<div>\n",
       "<style scoped>\n",
       "    .dataframe tbody tr th:only-of-type {\n",
       "        vertical-align: middle;\n",
       "    }\n",
       "\n",
       "    .dataframe tbody tr th {\n",
       "        vertical-align: top;\n",
       "    }\n",
       "\n",
       "    .dataframe thead th {\n",
       "        text-align: right;\n",
       "    }\n",
       "</style>\n",
       "<table border=\"1\" class=\"dataframe\">\n",
       "  <thead>\n",
       "    <tr style=\"text-align: right;\">\n",
       "      <th></th>\n",
       "      <th>ORIGIN</th>\n",
       "    </tr>\n",
       "  </thead>\n",
       "  <tbody>\n",
       "    <tr>\n",
       "      <th>0</th>\n",
       "      <td>YNG</td>\n",
       "    </tr>\n",
       "    <tr>\n",
       "      <th>1</th>\n",
       "      <td>ART</td>\n",
       "    </tr>\n",
       "    <tr>\n",
       "      <th>2</th>\n",
       "      <td>IFP</td>\n",
       "    </tr>\n",
       "    <tr>\n",
       "      <th>3</th>\n",
       "      <td>CYS</td>\n",
       "    </tr>\n",
       "  </tbody>\n",
       "</table>\n",
       "</div>"
      ],
      "text/plain": [
       "  ORIGIN\n",
       "0    YNG\n",
       "1    ART\n",
       "2    IFP\n",
       "3    CYS"
      ]
     },
     "execution_count": 27,
     "metadata": {},
     "output_type": "execute_result"
    }
   ],
   "source": [
    "from pyspark.sql.window import Window\n",
    "import pyspark.sql.functions as fun\n",
    "\n",
    "pin14 = temp861.select('ORIGIN','total_flights', fun.percent_rank().over(Window.partitionBy()\\\n",
    "    .orderBy(temp861['total_flights'])).alias(\"percentile\"))\\\n",
    "\n",
    "print(pin14.count(),'rows')\n",
    "pin14b2 = pin14.where(pin14['percentile'] <= 0.01)\n",
    "pin14b2.select('ORIGIN').toPandas()"
   ]
  },
  {
   "cell_type": "markdown",
   "metadata": {},
   "source": [
    "* We will use an SQL query which will provide us for each airport with the probability that a flight departing from that airport has a delay.\n",
    "\n",
    "\n",
    "* We will exclude that airports we show before that correspond to the lowest 1% percentile.\n",
    "\n",
    "\n",
    "* The probability will be computed by dividing the number of flights that we have declared as delayed from each airport with total number of flights from this airport. The result will be rounded to three decimal places for better presentation.\n",
    "\n",
    "\n",
    "* Finally, we will sort our results in descending order based on the computed probability."
   ]
  },
  {
   "cell_type": "code",
   "execution_count": 28,
   "metadata": {},
   "outputs": [
    {
     "name": "stdout",
     "output_type": "stream",
     "text": [
      "354 rows\n"
     ]
    },
    {
     "data": {
      "text/html": [
       "<div>\n",
       "<style scoped>\n",
       "    .dataframe tbody tr th:only-of-type {\n",
       "        vertical-align: middle;\n",
       "    }\n",
       "\n",
       "    .dataframe tbody tr th {\n",
       "        vertical-align: top;\n",
       "    }\n",
       "\n",
       "    .dataframe thead th {\n",
       "        text-align: right;\n",
       "    }\n",
       "</style>\n",
       "<table border=\"1\" class=\"dataframe\">\n",
       "  <thead>\n",
       "    <tr style=\"text-align: right;\">\n",
       "      <th></th>\n",
       "      <th>ORIGIN</th>\n",
       "      <th>prob</th>\n",
       "    </tr>\n",
       "  </thead>\n",
       "  <tbody>\n",
       "    <tr>\n",
       "      <th>0</th>\n",
       "      <td>SCK</td>\n",
       "      <td>0.382</td>\n",
       "    </tr>\n",
       "    <tr>\n",
       "      <th>1</th>\n",
       "      <td>HGR</td>\n",
       "      <td>0.348</td>\n",
       "    </tr>\n",
       "    <tr>\n",
       "      <th>2</th>\n",
       "      <td>OWB</td>\n",
       "      <td>0.346</td>\n",
       "    </tr>\n",
       "    <tr>\n",
       "      <th>3</th>\n",
       "      <td>OTH</td>\n",
       "      <td>0.345</td>\n",
       "    </tr>\n",
       "    <tr>\n",
       "      <th>4</th>\n",
       "      <td>OGD</td>\n",
       "      <td>0.328</td>\n",
       "    </tr>\n",
       "    <tr>\n",
       "      <th>5</th>\n",
       "      <td>MMH</td>\n",
       "      <td>0.326</td>\n",
       "    </tr>\n",
       "  </tbody>\n",
       "</table>\n",
       "</div>"
      ],
      "text/plain": [
       "  ORIGIN   prob\n",
       "0    SCK  0.382\n",
       "1    HGR  0.348\n",
       "2    OWB  0.346\n",
       "3    OTH  0.345\n",
       "4    OGD  0.328\n",
       "5    MMH  0.326"
      ]
     },
     "execution_count": 28,
     "metadata": {},
     "output_type": "execute_result"
    }
   ],
   "source": [
    "sql_way = spark.sql(\"\"\"\n",
    "    SELECT ORIGIN, ROUND(sum(Delayed_flights_coded)/count(ORIGIN),3) as prob\n",
    "    FROM temp24_coded\n",
    "    WHERE ORIGIN NOT IN ('YNG','ART','IFP','CYS')\n",
    "    GROUP BY ORIGIN\n",
    "    ORDER BY prob DESC\n",
    "    \"\"\")\n",
    "\n",
    "print(sql_way.count(),\"rows\")\n",
    "sql_way.limit(6).toPandas()"
   ]
  },
  {
   "cell_type": "markdown",
   "metadata": {},
   "source": [
    "* <ins>Some optimization</ins>: In principle we are recomputing all transformations every time.\n",
    "\n",
    "* In order to re-use the previously computed predictions (transformations) we have performed, we can cache the results in memory using `caching`.\n",
    "\n",
    "* Caching is an optimization technique for interactive and iterative Spark computations. It helps to save intermediate results so we can reuse them in subsequent stages."
   ]
  },
  {
   "cell_type": "code",
   "execution_count": 29,
   "metadata": {},
   "outputs": [
    {
     "data": {
      "text/plain": [
       "DataFrame[ORIGIN: string, prob: double]"
      ]
     },
     "execution_count": 29,
     "metadata": {},
     "output_type": "execute_result"
    }
   ],
   "source": [
    "sql_way.cache()"
   ]
  },
  {
   "cell_type": "markdown",
   "metadata": {},
   "source": [
    "* Now, we will use another SQL query which will provide us the average and median delay for each airport. \n",
    "\n",
    "* The [*percentile_approx*](https://spark.apache.org/docs/2.3.0/api/sql/index.html) function returns the approximate percentile value of numeric column col at the given percentage. \n",
    "\n",
    "* In order to compute the median we will use the 0.5 (50%) percentile in the 'DEP_DELAY' column (time the flight was delayed).\n",
    "\n",
    "* Our results will not refer to the whole dataset, but only to the flights that we declared as delayed. We also sorted our results in descending order based on the average delay for each airport."
   ]
  },
  {
   "cell_type": "code",
   "execution_count": 30,
   "metadata": {},
   "outputs": [],
   "source": [
    "sql8= spark.sql(\"\"\"\n",
    "    SELECT ORIGIN, ROUND(AVG(DEP_DELAY),2) as avg_delay, percentile_approx(DEP_DELAY, 0.5) as median_delay\n",
    "    FROM temp24_coded\n",
    "    WHERE Delayed_flights_coded = 1\n",
    "    GROUP BY ORIGIN\n",
    "    ORDER BY avg_delay DESC\n",
    "    \"\"\")"
   ]
  },
  {
   "cell_type": "code",
   "execution_count": 31,
   "metadata": {},
   "outputs": [
    {
     "data": {
      "text/plain": [
       "DataFrame[ORIGIN: string, avg_delay: double, median_delay: double]"
      ]
     },
     "execution_count": 31,
     "metadata": {},
     "output_type": "execute_result"
    }
   ],
   "source": [
    "sql8.cache()"
   ]
  },
  {
   "cell_type": "code",
   "execution_count": 32,
   "metadata": {},
   "outputs": [
    {
     "data": {
      "text/html": [
       "<div>\n",
       "<style scoped>\n",
       "    .dataframe tbody tr th:only-of-type {\n",
       "        vertical-align: middle;\n",
       "    }\n",
       "\n",
       "    .dataframe tbody tr th {\n",
       "        vertical-align: top;\n",
       "    }\n",
       "\n",
       "    .dataframe thead th {\n",
       "        text-align: right;\n",
       "    }\n",
       "</style>\n",
       "<table border=\"1\" class=\"dataframe\">\n",
       "  <thead>\n",
       "    <tr style=\"text-align: right;\">\n",
       "      <th></th>\n",
       "      <th>ORIGIN</th>\n",
       "      <th>avg_delay</th>\n",
       "      <th>median_delay</th>\n",
       "    </tr>\n",
       "  </thead>\n",
       "  <tbody>\n",
       "    <tr>\n",
       "      <th>0</th>\n",
       "      <td>DVL</td>\n",
       "      <td>201.11</td>\n",
       "      <td>83.0</td>\n",
       "    </tr>\n",
       "    <tr>\n",
       "      <th>1</th>\n",
       "      <td>PPG</td>\n",
       "      <td>181.85</td>\n",
       "      <td>35.0</td>\n",
       "    </tr>\n",
       "    <tr>\n",
       "      <th>2</th>\n",
       "      <td>JMS</td>\n",
       "      <td>150.76</td>\n",
       "      <td>50.0</td>\n",
       "    </tr>\n",
       "    <tr>\n",
       "      <th>3</th>\n",
       "      <td>RHI</td>\n",
       "      <td>141.66</td>\n",
       "      <td>79.0</td>\n",
       "    </tr>\n",
       "    <tr>\n",
       "      <th>4</th>\n",
       "      <td>APN</td>\n",
       "      <td>141.49</td>\n",
       "      <td>74.0</td>\n",
       "    </tr>\n",
       "    <tr>\n",
       "      <th>5</th>\n",
       "      <td>CMX</td>\n",
       "      <td>140.30</td>\n",
       "      <td>74.0</td>\n",
       "    </tr>\n",
       "  </tbody>\n",
       "</table>\n",
       "</div>"
      ],
      "text/plain": [
       "  ORIGIN  avg_delay  median_delay\n",
       "0    DVL     201.11          83.0\n",
       "1    PPG     181.85          35.0\n",
       "2    JMS     150.76          50.0\n",
       "3    RHI     141.66          79.0\n",
       "4    APN     141.49          74.0\n",
       "5    CMX     140.30          74.0"
      ]
     },
     "execution_count": 32,
     "metadata": {},
     "output_type": "execute_result"
    }
   ],
   "source": [
    "sql8.limit(6).toPandas()"
   ]
  },
  {
   "cell_type": "code",
   "execution_count": 33,
   "metadata": {},
   "outputs": [
    {
     "name": "stdout",
     "output_type": "stream",
     "text": [
      "(354, 2)\n",
      "(358, 3)\n"
     ]
    }
   ],
   "source": [
    "print(sql_way.toPandas().shape)\n",
    "print(sql8.toPandas().shape)"
   ]
  },
  {
   "cell_type": "markdown",
   "metadata": {},
   "source": [
    "* The airport \"misery index\" was shown in the first table we created which showed the probability that a flight departing from that airport has a delay. This table had 28 rows and 2 columns.\n",
    "\n",
    "* We will use [inner join](https://www.w3schools.com/sql/sql_join_inner.asp) based on the \"origin\", between the previously created two tables in order to show for the airports that had flights that delayed:\n",
    "    * the probability that a flight departing from an airport has a delay\n",
    "    * average and median delay for each airport\n",
    "\n",
    "* The reason we decided to use an inner join was because we wanted to enrich the \"misery index\" with the average and median delay. Remember, an inner join which selects records that have matching values in both tables. \n",
    "\n",
    "* The results will then be sorted in descending order based on the afforementioned probability."
   ]
  },
  {
   "cell_type": "code",
   "execution_count": 34,
   "metadata": {},
   "outputs": [
    {
     "data": {
      "text/html": [
       "<div>\n",
       "<style scoped>\n",
       "    .dataframe tbody tr th:only-of-type {\n",
       "        vertical-align: middle;\n",
       "    }\n",
       "\n",
       "    .dataframe tbody tr th {\n",
       "        vertical-align: top;\n",
       "    }\n",
       "\n",
       "    .dataframe thead th {\n",
       "        text-align: right;\n",
       "    }\n",
       "</style>\n",
       "<table border=\"1\" class=\"dataframe\">\n",
       "  <thead>\n",
       "    <tr style=\"text-align: right;\">\n",
       "      <th></th>\n",
       "      <th>ORIGIN</th>\n",
       "      <th>prob</th>\n",
       "      <th>avg_delay</th>\n",
       "      <th>median_delay</th>\n",
       "    </tr>\n",
       "  </thead>\n",
       "  <tbody>\n",
       "    <tr>\n",
       "      <th>0</th>\n",
       "      <td>SCK</td>\n",
       "      <td>0.382</td>\n",
       "      <td>61.58</td>\n",
       "      <td>37.0</td>\n",
       "    </tr>\n",
       "    <tr>\n",
       "      <th>1</th>\n",
       "      <td>HGR</td>\n",
       "      <td>0.348</td>\n",
       "      <td>78.23</td>\n",
       "      <td>36.0</td>\n",
       "    </tr>\n",
       "    <tr>\n",
       "      <th>2</th>\n",
       "      <td>OWB</td>\n",
       "      <td>0.346</td>\n",
       "      <td>85.68</td>\n",
       "      <td>35.0</td>\n",
       "    </tr>\n",
       "    <tr>\n",
       "      <th>3</th>\n",
       "      <td>OTH</td>\n",
       "      <td>0.345</td>\n",
       "      <td>94.08</td>\n",
       "      <td>60.0</td>\n",
       "    </tr>\n",
       "    <tr>\n",
       "      <th>4</th>\n",
       "      <td>OGD</td>\n",
       "      <td>0.328</td>\n",
       "      <td>57.05</td>\n",
       "      <td>30.0</td>\n",
       "    </tr>\n",
       "    <tr>\n",
       "      <th>5</th>\n",
       "      <td>MMH</td>\n",
       "      <td>0.326</td>\n",
       "      <td>112.95</td>\n",
       "      <td>50.0</td>\n",
       "    </tr>\n",
       "  </tbody>\n",
       "</table>\n",
       "</div>"
      ],
      "text/plain": [
       "  ORIGIN   prob  avg_delay  median_delay\n",
       "0    SCK  0.382      61.58          37.0\n",
       "1    HGR  0.348      78.23          36.0\n",
       "2    OWB  0.346      85.68          35.0\n",
       "3    OTH  0.345      94.08          60.0\n",
       "4    OGD  0.328      57.05          30.0\n",
       "5    MMH  0.326     112.95          50.0"
      ]
     },
     "execution_count": 34,
     "metadata": {},
     "output_type": "execute_result"
    }
   ],
   "source": [
    "# inner_join = sql_way.join(sql8, sql8.ORIGIN == sql_way.ORIGIN, how='inner')  # Origin column: emfanizetai 2 fores\n",
    "inner_join = sql_way.join(sql8, on=['ORIGIN'], how='inner')   # => etsi swsto\n",
    "inner_join.orderBy(\"prob\", ascending=False).limit(6).toPandas()"
   ]
  },
  {
   "cell_type": "markdown",
   "metadata": {},
   "source": [
    "* As we see the \"misery index\" has the same rows as before. We just tabulated the average and median delay."
   ]
  },
  {
   "cell_type": "code",
   "execution_count": 35,
   "metadata": {},
   "outputs": [
    {
     "name": "stdout",
     "output_type": "stream",
     "text": [
      "(354, 4)\n"
     ]
    }
   ],
   "source": [
    "print(inner_join.toPandas().shape)"
   ]
  },
  {
   "cell_type": "markdown",
   "metadata": {},
   "source": [
    "* In the data the airlines are only indicated by their code.\n",
    "\n",
    "* In order to include airline names in our results, we downloaded the carrier lookup table from https://www.transtats.bts.gov/Download_Lookup.asp?Lookup=L_UNIQUE_CARRIERS."
   ]
  },
  {
   "cell_type": "code",
   "execution_count": 36,
   "metadata": {},
   "outputs": [
    {
     "data": {
      "text/html": [
       "<div>\n",
       "<style scoped>\n",
       "    .dataframe tbody tr th:only-of-type {\n",
       "        vertical-align: middle;\n",
       "    }\n",
       "\n",
       "    .dataframe tbody tr th {\n",
       "        vertical-align: top;\n",
       "    }\n",
       "\n",
       "    .dataframe thead th {\n",
       "        text-align: right;\n",
       "    }\n",
       "</style>\n",
       "<table border=\"1\" class=\"dataframe\">\n",
       "  <thead>\n",
       "    <tr style=\"text-align: right;\">\n",
       "      <th></th>\n",
       "      <th>FL_DATE</th>\n",
       "      <th>TAIL_NUM</th>\n",
       "      <th>CARRIER</th>\n",
       "      <th>ORIGIN</th>\n",
       "      <th>ORIGIN_CITY_NAME</th>\n",
       "      <th>DEST</th>\n",
       "      <th>DEST_CITY_NAME</th>\n",
       "      <th>DEP_TIME</th>\n",
       "      <th>DEP_DELAY</th>\n",
       "      <th>ARR_TIME</th>\n",
       "      <th>ARR_DELAY</th>\n",
       "      <th>CANCELLED</th>\n",
       "      <th>CANCELLATION_CODE</th>\n",
       "      <th>DIVERTED</th>\n",
       "      <th>CARRIER_DELAY</th>\n",
       "      <th>WEATHER_DELAY</th>\n",
       "      <th>NAS_DELAY</th>\n",
       "      <th>SECURITY_DELAY</th>\n",
       "      <th>LATE_AIRCRAFT_DELAY</th>\n",
       "    </tr>\n",
       "  </thead>\n",
       "  <tbody>\n",
       "    <tr>\n",
       "      <th>0</th>\n",
       "      <td>2018-01-01</td>\n",
       "      <td>N8891A</td>\n",
       "      <td>9E</td>\n",
       "      <td>GFK</td>\n",
       "      <td>Grand Forks, ND</td>\n",
       "      <td>MSP</td>\n",
       "      <td>Minneapolis, MN</td>\n",
       "      <td>1302</td>\n",
       "      <td>-8.0</td>\n",
       "      <td>1417</td>\n",
       "      <td>-12.0</td>\n",
       "      <td>0.0</td>\n",
       "      <td>None</td>\n",
       "      <td>0.0</td>\n",
       "      <td>None</td>\n",
       "      <td>None</td>\n",
       "      <td>None</td>\n",
       "      <td>None</td>\n",
       "      <td>None</td>\n",
       "    </tr>\n",
       "    <tr>\n",
       "      <th>1</th>\n",
       "      <td>2018-01-01</td>\n",
       "      <td>N8891A</td>\n",
       "      <td>9E</td>\n",
       "      <td>MSP</td>\n",
       "      <td>Minneapolis, MN</td>\n",
       "      <td>GFK</td>\n",
       "      <td>Grand Forks, ND</td>\n",
       "      <td>1124</td>\n",
       "      <td>9.0</td>\n",
       "      <td>1234</td>\n",
       "      <td>-11.0</td>\n",
       "      <td>0.0</td>\n",
       "      <td>None</td>\n",
       "      <td>0.0</td>\n",
       "      <td>None</td>\n",
       "      <td>None</td>\n",
       "      <td>None</td>\n",
       "      <td>None</td>\n",
       "      <td>None</td>\n",
       "    </tr>\n",
       "    <tr>\n",
       "      <th>2</th>\n",
       "      <td>2018-01-01</td>\n",
       "      <td>N293PQ</td>\n",
       "      <td>9E</td>\n",
       "      <td>DTW</td>\n",
       "      <td>Detroit, MI</td>\n",
       "      <td>SAT</td>\n",
       "      <td>San Antonio, TX</td>\n",
       "      <td>2022</td>\n",
       "      <td>4.0</td>\n",
       "      <td>2232</td>\n",
       "      <td>-50.0</td>\n",
       "      <td>0.0</td>\n",
       "      <td>None</td>\n",
       "      <td>0.0</td>\n",
       "      <td>None</td>\n",
       "      <td>None</td>\n",
       "      <td>None</td>\n",
       "      <td>None</td>\n",
       "      <td>None</td>\n",
       "    </tr>\n",
       "  </tbody>\n",
       "</table>\n",
       "</div>"
      ],
      "text/plain": [
       "     FL_DATE TAIL_NUM CARRIER ORIGIN ORIGIN_CITY_NAME DEST   DEST_CITY_NAME  \\\n",
       "0 2018-01-01   N8891A      9E    GFK  Grand Forks, ND  MSP  Minneapolis, MN   \n",
       "1 2018-01-01   N8891A      9E    MSP  Minneapolis, MN  GFK  Grand Forks, ND   \n",
       "2 2018-01-01   N293PQ      9E    DTW      Detroit, MI  SAT  San Antonio, TX   \n",
       "\n",
       "   DEP_TIME  DEP_DELAY  ARR_TIME  ARR_DELAY  CANCELLED CANCELLATION_CODE  \\\n",
       "0      1302       -8.0      1417      -12.0        0.0              None   \n",
       "1      1124        9.0      1234      -11.0        0.0              None   \n",
       "2      2022        4.0      2232      -50.0        0.0              None   \n",
       "\n",
       "   DIVERTED CARRIER_DELAY WEATHER_DELAY NAS_DELAY SECURITY_DELAY  \\\n",
       "0       0.0          None          None      None           None   \n",
       "1       0.0          None          None      None           None   \n",
       "2       0.0          None          None      None           None   \n",
       "\n",
       "  LATE_AIRCRAFT_DELAY  \n",
       "0                None  \n",
       "1                None  \n",
       "2                None  "
      ]
     },
     "execution_count": 36,
     "metadata": {},
     "output_type": "execute_result"
    }
   ],
   "source": [
    "flight_data.limit(3).toPandas()"
   ]
  },
  {
   "cell_type": "code",
   "execution_count": 37,
   "metadata": {},
   "outputs": [
    {
     "data": {
      "text/html": [
       "<div>\n",
       "<style scoped>\n",
       "    .dataframe tbody tr th:only-of-type {\n",
       "        vertical-align: middle;\n",
       "    }\n",
       "\n",
       "    .dataframe tbody tr th {\n",
       "        vertical-align: top;\n",
       "    }\n",
       "\n",
       "    .dataframe thead th {\n",
       "        text-align: right;\n",
       "    }\n",
       "</style>\n",
       "<table border=\"1\" class=\"dataframe\">\n",
       "  <thead>\n",
       "    <tr style=\"text-align: right;\">\n",
       "      <th></th>\n",
       "      <th>Code</th>\n",
       "      <th>Description</th>\n",
       "    </tr>\n",
       "  </thead>\n",
       "  <tbody>\n",
       "    <tr>\n",
       "      <th>0</th>\n",
       "      <td>02Q</td>\n",
       "      <td>Titan Airways</td>\n",
       "    </tr>\n",
       "    <tr>\n",
       "      <th>1</th>\n",
       "      <td>04Q</td>\n",
       "      <td>Tradewind Aviation</td>\n",
       "    </tr>\n",
       "    <tr>\n",
       "      <th>2</th>\n",
       "      <td>05Q</td>\n",
       "      <td>Comlux Aviation, AG</td>\n",
       "    </tr>\n",
       "    <tr>\n",
       "      <th>3</th>\n",
       "      <td>06Q</td>\n",
       "      <td>Master Top Linhas Aereas Ltd.</td>\n",
       "    </tr>\n",
       "    <tr>\n",
       "      <th>4</th>\n",
       "      <td>07Q</td>\n",
       "      <td>Flair Airlines Ltd.</td>\n",
       "    </tr>\n",
       "  </tbody>\n",
       "</table>\n",
       "</div>"
      ],
      "text/plain": [
       "  Code                    Description\n",
       "0  02Q                  Titan Airways\n",
       "1  04Q             Tradewind Aviation\n",
       "2  05Q            Comlux Aviation, AG\n",
       "3  06Q  Master Top Linhas Aereas Ltd.\n",
       "4  07Q            Flair Airlines Ltd."
      ]
     },
     "execution_count": 37,
     "metadata": {},
     "output_type": "execute_result"
    }
   ],
   "source": [
    "airlines = spark.read.option(\"header\", \"true\").csv(\"L_UNIQUE_CARRIERS.csv_\")\n",
    "airlines.limit(5).toPandas()"
   ]
  },
  {
   "cell_type": "code",
   "execution_count": 38,
   "metadata": {},
   "outputs": [
    {
     "name": "stdout",
     "output_type": "stream",
     "text": [
      "(1672, 2)\n"
     ]
    }
   ],
   "source": [
    "print(airlines.toPandas().shape)"
   ]
  },
  {
   "cell_type": "markdown",
   "metadata": {},
   "source": [
    "* We see that we were able to download the names for 1672 different airlines.\n",
    "\n",
    "* In order to add the airline names in our data, we will use an inner join based on the \"carrier\".\n",
    "\n",
    "* Just for easier implementation, we will rename the \"Code\" variable in the carrier lookup table into \"carrier\" (same as in the other table)."
   ]
  },
  {
   "cell_type": "code",
   "execution_count": 39,
   "metadata": {},
   "outputs": [
    {
     "data": {
      "text/html": [
       "<div>\n",
       "<style scoped>\n",
       "    .dataframe tbody tr th:only-of-type {\n",
       "        vertical-align: middle;\n",
       "    }\n",
       "\n",
       "    .dataframe tbody tr th {\n",
       "        vertical-align: top;\n",
       "    }\n",
       "\n",
       "    .dataframe thead th {\n",
       "        text-align: right;\n",
       "    }\n",
       "</style>\n",
       "<table border=\"1\" class=\"dataframe\">\n",
       "  <thead>\n",
       "    <tr style=\"text-align: right;\">\n",
       "      <th></th>\n",
       "      <th>CARRIER</th>\n",
       "      <th>Description</th>\n",
       "    </tr>\n",
       "  </thead>\n",
       "  <tbody>\n",
       "    <tr>\n",
       "      <th>0</th>\n",
       "      <td>02Q</td>\n",
       "      <td>Titan Airways</td>\n",
       "    </tr>\n",
       "    <tr>\n",
       "      <th>1</th>\n",
       "      <td>04Q</td>\n",
       "      <td>Tradewind Aviation</td>\n",
       "    </tr>\n",
       "    <tr>\n",
       "      <th>2</th>\n",
       "      <td>05Q</td>\n",
       "      <td>Comlux Aviation, AG</td>\n",
       "    </tr>\n",
       "    <tr>\n",
       "      <th>3</th>\n",
       "      <td>06Q</td>\n",
       "      <td>Master Top Linhas Aereas Ltd.</td>\n",
       "    </tr>\n",
       "    <tr>\n",
       "      <th>4</th>\n",
       "      <td>07Q</td>\n",
       "      <td>Flair Airlines Ltd.</td>\n",
       "    </tr>\n",
       "  </tbody>\n",
       "</table>\n",
       "</div>"
      ],
      "text/plain": [
       "  CARRIER                    Description\n",
       "0     02Q                  Titan Airways\n",
       "1     04Q             Tradewind Aviation\n",
       "2     05Q            Comlux Aviation, AG\n",
       "3     06Q  Master Top Linhas Aereas Ltd.\n",
       "4     07Q            Flair Airlines Ltd."
      ]
     },
     "execution_count": 39,
     "metadata": {},
     "output_type": "execute_result"
    }
   ],
   "source": [
    "# Rename column Code for easier join\n",
    "airlines2b = airlines.withColumnRenamed(\"Code\",\"CARRIER\")\n",
    "airlines2b.limit(5).toPandas()"
   ]
  },
  {
   "cell_type": "code",
   "execution_count": 40,
   "metadata": {},
   "outputs": [
    {
     "data": {
      "text/html": [
       "<div>\n",
       "<style scoped>\n",
       "    .dataframe tbody tr th:only-of-type {\n",
       "        vertical-align: middle;\n",
       "    }\n",
       "\n",
       "    .dataframe tbody tr th {\n",
       "        vertical-align: top;\n",
       "    }\n",
       "\n",
       "    .dataframe thead th {\n",
       "        text-align: right;\n",
       "    }\n",
       "</style>\n",
       "<table border=\"1\" class=\"dataframe\">\n",
       "  <thead>\n",
       "    <tr style=\"text-align: right;\">\n",
       "      <th></th>\n",
       "      <th>CARRIER</th>\n",
       "      <th>ORIGIN</th>\n",
       "      <th>ORIGIN_CITY_NAME</th>\n",
       "      <th>DEP_TIME</th>\n",
       "      <th>DEP_DELAY</th>\n",
       "      <th>CANCELLED</th>\n",
       "      <th>Delayed_flights</th>\n",
       "      <th>Delayed_flights_coded</th>\n",
       "    </tr>\n",
       "  </thead>\n",
       "  <tbody>\n",
       "    <tr>\n",
       "      <th>0</th>\n",
       "      <td>9E</td>\n",
       "      <td>GFK</td>\n",
       "      <td>Grand Forks, ND</td>\n",
       "      <td>1302</td>\n",
       "      <td>-8.0</td>\n",
       "      <td>0.0</td>\n",
       "      <td>False</td>\n",
       "      <td>0</td>\n",
       "    </tr>\n",
       "    <tr>\n",
       "      <th>1</th>\n",
       "      <td>9E</td>\n",
       "      <td>MSP</td>\n",
       "      <td>Minneapolis, MN</td>\n",
       "      <td>1124</td>\n",
       "      <td>9.0</td>\n",
       "      <td>0.0</td>\n",
       "      <td>True</td>\n",
       "      <td>1</td>\n",
       "    </tr>\n",
       "    <tr>\n",
       "      <th>2</th>\n",
       "      <td>9E</td>\n",
       "      <td>DTW</td>\n",
       "      <td>Detroit, MI</td>\n",
       "      <td>2022</td>\n",
       "      <td>4.0</td>\n",
       "      <td>0.0</td>\n",
       "      <td>True</td>\n",
       "      <td>1</td>\n",
       "    </tr>\n",
       "    <tr>\n",
       "      <th>3</th>\n",
       "      <td>9E</td>\n",
       "      <td>BOS</td>\n",
       "      <td>Boston, MA</td>\n",
       "      <td>1349</td>\n",
       "      <td>104.0</td>\n",
       "      <td>0.0</td>\n",
       "      <td>True</td>\n",
       "      <td>1</td>\n",
       "    </tr>\n",
       "    <tr>\n",
       "      <th>4</th>\n",
       "      <td>9E</td>\n",
       "      <td>MSP</td>\n",
       "      <td>Minneapolis, MN</td>\n",
       "      <td>846</td>\n",
       "      <td>1.0</td>\n",
       "      <td>0.0</td>\n",
       "      <td>True</td>\n",
       "      <td>1</td>\n",
       "    </tr>\n",
       "  </tbody>\n",
       "</table>\n",
       "</div>"
      ],
      "text/plain": [
       "  CARRIER ORIGIN ORIGIN_CITY_NAME  DEP_TIME  DEP_DELAY  CANCELLED  \\\n",
       "0      9E    GFK  Grand Forks, ND      1302       -8.0        0.0   \n",
       "1      9E    MSP  Minneapolis, MN      1124        9.0        0.0   \n",
       "2      9E    DTW      Detroit, MI      2022        4.0        0.0   \n",
       "3      9E    BOS       Boston, MA      1349      104.0        0.0   \n",
       "4      9E    MSP  Minneapolis, MN       846        1.0        0.0   \n",
       "\n",
       "   Delayed_flights  Delayed_flights_coded  \n",
       "0            False                      0  \n",
       "1             True                      1  \n",
       "2             True                      1  \n",
       "3             True                      1  \n",
       "4             True                      1  "
      ]
     },
     "execution_count": 40,
     "metadata": {},
     "output_type": "execute_result"
    }
   ],
   "source": [
    "temp24_coded.limit(5).toPandas()"
   ]
  },
  {
   "cell_type": "code",
   "execution_count": 41,
   "metadata": {},
   "outputs": [
    {
     "data": {
      "text/html": [
       "<div>\n",
       "<style scoped>\n",
       "    .dataframe tbody tr th:only-of-type {\n",
       "        vertical-align: middle;\n",
       "    }\n",
       "\n",
       "    .dataframe tbody tr th {\n",
       "        vertical-align: top;\n",
       "    }\n",
       "\n",
       "    .dataframe thead th {\n",
       "        text-align: right;\n",
       "    }\n",
       "</style>\n",
       "<table border=\"1\" class=\"dataframe\">\n",
       "  <thead>\n",
       "    <tr style=\"text-align: right;\">\n",
       "      <th></th>\n",
       "      <th>CARRIER</th>\n",
       "      <th>ORIGIN</th>\n",
       "      <th>ORIGIN_CITY_NAME</th>\n",
       "      <th>DEP_TIME</th>\n",
       "      <th>DEP_DELAY</th>\n",
       "      <th>CANCELLED</th>\n",
       "      <th>Delayed_flights</th>\n",
       "      <th>Delayed_flights_coded</th>\n",
       "      <th>Description</th>\n",
       "    </tr>\n",
       "  </thead>\n",
       "  <tbody>\n",
       "    <tr>\n",
       "      <th>0</th>\n",
       "      <td>9E</td>\n",
       "      <td>GFK</td>\n",
       "      <td>Grand Forks, ND</td>\n",
       "      <td>1302</td>\n",
       "      <td>-8.0</td>\n",
       "      <td>0.0</td>\n",
       "      <td>False</td>\n",
       "      <td>0</td>\n",
       "      <td>Endeavor Air Inc.</td>\n",
       "    </tr>\n",
       "    <tr>\n",
       "      <th>1</th>\n",
       "      <td>9E</td>\n",
       "      <td>MSP</td>\n",
       "      <td>Minneapolis, MN</td>\n",
       "      <td>1124</td>\n",
       "      <td>9.0</td>\n",
       "      <td>0.0</td>\n",
       "      <td>True</td>\n",
       "      <td>1</td>\n",
       "      <td>Endeavor Air Inc.</td>\n",
       "    </tr>\n",
       "    <tr>\n",
       "      <th>2</th>\n",
       "      <td>9E</td>\n",
       "      <td>DTW</td>\n",
       "      <td>Detroit, MI</td>\n",
       "      <td>2022</td>\n",
       "      <td>4.0</td>\n",
       "      <td>0.0</td>\n",
       "      <td>True</td>\n",
       "      <td>1</td>\n",
       "      <td>Endeavor Air Inc.</td>\n",
       "    </tr>\n",
       "    <tr>\n",
       "      <th>3</th>\n",
       "      <td>9E</td>\n",
       "      <td>BOS</td>\n",
       "      <td>Boston, MA</td>\n",
       "      <td>1349</td>\n",
       "      <td>104.0</td>\n",
       "      <td>0.0</td>\n",
       "      <td>True</td>\n",
       "      <td>1</td>\n",
       "      <td>Endeavor Air Inc.</td>\n",
       "    </tr>\n",
       "  </tbody>\n",
       "</table>\n",
       "</div>"
      ],
      "text/plain": [
       "  CARRIER ORIGIN ORIGIN_CITY_NAME  DEP_TIME  DEP_DELAY  CANCELLED  \\\n",
       "0      9E    GFK  Grand Forks, ND      1302       -8.0        0.0   \n",
       "1      9E    MSP  Minneapolis, MN      1124        9.0        0.0   \n",
       "2      9E    DTW      Detroit, MI      2022        4.0        0.0   \n",
       "3      9E    BOS       Boston, MA      1349      104.0        0.0   \n",
       "\n",
       "   Delayed_flights  Delayed_flights_coded        Description  \n",
       "0            False                      0  Endeavor Air Inc.  \n",
       "1             True                      1  Endeavor Air Inc.  \n",
       "2             True                      1  Endeavor Air Inc.  \n",
       "3             True                      1  Endeavor Air Inc.  "
      ]
     },
     "execution_count": 41,
     "metadata": {},
     "output_type": "execute_result"
    }
   ],
   "source": [
    "join21 = temp24_coded.join(airlines2b, on=['CARRIER'], how='inner') \n",
    "# out_join22 = temp24_coded.join(airlines, airlines.Code == temp24_coded.CARRIER, how='inner')   ## 2os tropos (xwris rename)\n",
    "join21.limit(4).toPandas()"
   ]
  },
  {
   "cell_type": "code",
   "execution_count": 42,
   "metadata": {},
   "outputs": [
    {
     "data": {
      "text/plain": [
       "7096862"
      ]
     },
     "execution_count": 42,
     "metadata": {},
     "output_type": "execute_result"
    }
   ],
   "source": [
    "total_flights2 = join21.count()\n",
    "total_flights2"
   ]
  },
  {
   "cell_type": "markdown",
   "metadata": {},
   "source": [
    "* For clearer understanding, we will only keep the columns that are necessary for our analysis. "
   ]
  },
  {
   "cell_type": "code",
   "execution_count": 43,
   "metadata": {},
   "outputs": [
    {
     "data": {
      "text/html": [
       "<div>\n",
       "<style scoped>\n",
       "    .dataframe tbody tr th:only-of-type {\n",
       "        vertical-align: middle;\n",
       "    }\n",
       "\n",
       "    .dataframe tbody tr th {\n",
       "        vertical-align: top;\n",
       "    }\n",
       "\n",
       "    .dataframe thead th {\n",
       "        text-align: right;\n",
       "    }\n",
       "</style>\n",
       "<table border=\"1\" class=\"dataframe\">\n",
       "  <thead>\n",
       "    <tr style=\"text-align: right;\">\n",
       "      <th></th>\n",
       "      <th>Description</th>\n",
       "      <th>DEP_DELAY</th>\n",
       "      <th>Delayed_flights_coded</th>\n",
       "    </tr>\n",
       "  </thead>\n",
       "  <tbody>\n",
       "    <tr>\n",
       "      <th>0</th>\n",
       "      <td>Endeavor Air Inc.</td>\n",
       "      <td>-8.0</td>\n",
       "      <td>0</td>\n",
       "    </tr>\n",
       "    <tr>\n",
       "      <th>1</th>\n",
       "      <td>Endeavor Air Inc.</td>\n",
       "      <td>9.0</td>\n",
       "      <td>1</td>\n",
       "    </tr>\n",
       "    <tr>\n",
       "      <th>2</th>\n",
       "      <td>Endeavor Air Inc.</td>\n",
       "      <td>4.0</td>\n",
       "      <td>1</td>\n",
       "    </tr>\n",
       "    <tr>\n",
       "      <th>3</th>\n",
       "      <td>Endeavor Air Inc.</td>\n",
       "      <td>104.0</td>\n",
       "      <td>1</td>\n",
       "    </tr>\n",
       "  </tbody>\n",
       "</table>\n",
       "</div>"
      ],
      "text/plain": [
       "         Description  DEP_DELAY  Delayed_flights_coded\n",
       "0  Endeavor Air Inc.       -8.0                      0\n",
       "1  Endeavor Air Inc.        9.0                      1\n",
       "2  Endeavor Air Inc.        4.0                      1\n",
       "3  Endeavor Air Inc.      104.0                      1"
      ]
     },
     "execution_count": 43,
     "metadata": {},
     "output_type": "execute_result"
    }
   ],
   "source": [
    "data38 = join21.select('Description','DEP_DELAY','Delayed_flights_coded')\n",
    "data38.limit(4).toPandas()"
   ]
  },
  {
   "cell_type": "code",
   "execution_count": 44,
   "metadata": {},
   "outputs": [],
   "source": [
    "### Sql\n",
    "data38.createOrReplaceTempView(\"data38\")"
   ]
  },
  {
   "cell_type": "markdown",
   "metadata": {},
   "source": [
    "# <center>`\"Misery Index\" for airlines`</center>"
   ]
  },
  {
   "cell_type": "markdown",
   "metadata": {},
   "source": [
    "* We work similar to before and present the probability that a flight operated by each airline has a delay sorted in descending order."
   ]
  },
  {
   "cell_type": "code",
   "execution_count": 45,
   "metadata": {},
   "outputs": [
    {
     "data": {
      "text/html": [
       "<div>\n",
       "<style scoped>\n",
       "    .dataframe tbody tr th:only-of-type {\n",
       "        vertical-align: middle;\n",
       "    }\n",
       "\n",
       "    .dataframe tbody tr th {\n",
       "        vertical-align: top;\n",
       "    }\n",
       "\n",
       "    .dataframe thead th {\n",
       "        text-align: right;\n",
       "    }\n",
       "</style>\n",
       "<table border=\"1\" class=\"dataframe\">\n",
       "  <thead>\n",
       "    <tr style=\"text-align: right;\">\n",
       "      <th></th>\n",
       "      <th>Description</th>\n",
       "      <th>prob</th>\n",
       "    </tr>\n",
       "  </thead>\n",
       "  <tbody>\n",
       "    <tr>\n",
       "      <th>0</th>\n",
       "      <td>Southwest Airlines Co.</td>\n",
       "      <td>0.50</td>\n",
       "    </tr>\n",
       "    <tr>\n",
       "      <th>1</th>\n",
       "      <td>Frontier Airlines Inc.</td>\n",
       "      <td>0.45</td>\n",
       "    </tr>\n",
       "    <tr>\n",
       "      <th>2</th>\n",
       "      <td>JetBlue Airways</td>\n",
       "      <td>0.42</td>\n",
       "    </tr>\n",
       "    <tr>\n",
       "      <th>3</th>\n",
       "      <td>PSA Airlines Inc.</td>\n",
       "      <td>0.38</td>\n",
       "    </tr>\n",
       "    <tr>\n",
       "      <th>4</th>\n",
       "      <td>American Airlines Inc.</td>\n",
       "      <td>0.35</td>\n",
       "    </tr>\n",
       "    <tr>\n",
       "      <th>5</th>\n",
       "      <td>Allegiant Air</td>\n",
       "      <td>0.34</td>\n",
       "    </tr>\n",
       "  </tbody>\n",
       "</table>\n",
       "</div>"
      ],
      "text/plain": [
       "              Description  prob\n",
       "0  Southwest Airlines Co.  0.50\n",
       "1  Frontier Airlines Inc.  0.45\n",
       "2         JetBlue Airways  0.42\n",
       "3       PSA Airlines Inc.  0.38\n",
       "4  American Airlines Inc.  0.35\n",
       "5           Allegiant Air  0.34"
      ]
     },
     "execution_count": 45,
     "metadata": {},
     "output_type": "execute_result"
    }
   ],
   "source": [
    "pin21 = spark.sql(\"\"\"\n",
    "    SELECT Description, ROUND(sum(Delayed_flights_coded)/count(Description),2) as prob\n",
    "    FROM data38\n",
    "    GROUP BY Description\n",
    "    ORDER BY prob DESC\n",
    "    \"\"\")\n",
    "\n",
    "pin21.limit(6).toPandas()"
   ]
  },
  {
   "cell_type": "code",
   "execution_count": 46,
   "metadata": {},
   "outputs": [
    {
     "data": {
      "text/plain": [
       "DataFrame[Description: string, prob: double]"
      ]
     },
     "execution_count": 46,
     "metadata": {},
     "output_type": "execute_result"
    }
   ],
   "source": [
    "pin21.cache()"
   ]
  },
  {
   "cell_type": "markdown",
   "metadata": {},
   "source": [
    "* Now, we will use another SQL query and similarly to what we did for the airports, we compute the average and median delay you may expect to have with an airline. "
   ]
  },
  {
   "cell_type": "code",
   "execution_count": 47,
   "metadata": {},
   "outputs": [
    {
     "data": {
      "text/html": [
       "<div>\n",
       "<style scoped>\n",
       "    .dataframe tbody tr th:only-of-type {\n",
       "        vertical-align: middle;\n",
       "    }\n",
       "\n",
       "    .dataframe tbody tr th {\n",
       "        vertical-align: top;\n",
       "    }\n",
       "\n",
       "    .dataframe thead th {\n",
       "        text-align: right;\n",
       "    }\n",
       "</style>\n",
       "<table border=\"1\" class=\"dataframe\">\n",
       "  <thead>\n",
       "    <tr style=\"text-align: right;\">\n",
       "      <th></th>\n",
       "      <th>Description</th>\n",
       "      <th>avg_delay</th>\n",
       "      <th>median_delay</th>\n",
       "    </tr>\n",
       "  </thead>\n",
       "  <tbody>\n",
       "    <tr>\n",
       "      <th>0</th>\n",
       "      <td>ExpressJet Airlines LLC</td>\n",
       "      <td>61.81</td>\n",
       "      <td>31.0</td>\n",
       "    </tr>\n",
       "    <tr>\n",
       "      <th>1</th>\n",
       "      <td>SkyWest Airlines Inc.</td>\n",
       "      <td>54.62</td>\n",
       "      <td>24.0</td>\n",
       "    </tr>\n",
       "    <tr>\n",
       "      <th>2</th>\n",
       "      <td>Endeavor Air Inc.</td>\n",
       "      <td>53.84</td>\n",
       "      <td>25.0</td>\n",
       "    </tr>\n",
       "    <tr>\n",
       "      <th>3</th>\n",
       "      <td>Mesa Airlines Inc.</td>\n",
       "      <td>51.52</td>\n",
       "      <td>23.0</td>\n",
       "    </tr>\n",
       "    <tr>\n",
       "      <th>4</th>\n",
       "      <td>Frontier Airlines Inc.</td>\n",
       "      <td>50.82</td>\n",
       "      <td>25.0</td>\n",
       "    </tr>\n",
       "    <tr>\n",
       "      <th>5</th>\n",
       "      <td>Allegiant Air</td>\n",
       "      <td>49.59</td>\n",
       "      <td>22.0</td>\n",
       "    </tr>\n",
       "  </tbody>\n",
       "</table>\n",
       "</div>"
      ],
      "text/plain": [
       "               Description  avg_delay  median_delay\n",
       "0  ExpressJet Airlines LLC      61.81          31.0\n",
       "1    SkyWest Airlines Inc.      54.62          24.0\n",
       "2        Endeavor Air Inc.      53.84          25.0\n",
       "3       Mesa Airlines Inc.      51.52          23.0\n",
       "4   Frontier Airlines Inc.      50.82          25.0\n",
       "5            Allegiant Air      49.59          22.0"
      ]
     },
     "execution_count": 47,
     "metadata": {},
     "output_type": "execute_result"
    }
   ],
   "source": [
    "pin22= spark.sql(\"\"\"\n",
    "    SELECT Description, ROUND(AVG(DEP_DELAY),2) as avg_delay, percentile_approx(DEP_DELAY, 0.5) as median_delay\n",
    "    FROM data38\n",
    "    WHERE Delayed_flights_coded = 1\n",
    "    GROUP BY Description\n",
    "    ORDER BY avg_delay DESC\n",
    "    \"\"\")\n",
    "\n",
    "pin22.limit(6).toPandas()"
   ]
  },
  {
   "cell_type": "code",
   "execution_count": 48,
   "metadata": {},
   "outputs": [
    {
     "data": {
      "text/plain": [
       "DataFrame[Description: string, avg_delay: double, median_delay: double]"
      ]
     },
     "execution_count": 48,
     "metadata": {},
     "output_type": "execute_result"
    }
   ],
   "source": [
    "pin22.cache()"
   ]
  },
  {
   "cell_type": "markdown",
   "metadata": {},
   "source": [
    "* Finally we use an [inner join](https://www.w3schools.com/sql/sql_join_inner.asp) based on the name of each airline, in order to enrich our airline misery index by tabulating\n",
    "between the two previously created tables in order to show for the airports which had flights that delayed:\n",
    "    * the probability that you will experience a delay flying with a particular airline \n",
    "    * the average and median delay that you are likely to experience\n",
    "\n",
    "* The results will then be sorted in descending order based on the afforementioned probability."
   ]
  },
  {
   "cell_type": "code",
   "execution_count": 49,
   "metadata": {},
   "outputs": [
    {
     "data": {
      "text/html": [
       "<div>\n",
       "<style scoped>\n",
       "    .dataframe tbody tr th:only-of-type {\n",
       "        vertical-align: middle;\n",
       "    }\n",
       "\n",
       "    .dataframe tbody tr th {\n",
       "        vertical-align: top;\n",
       "    }\n",
       "\n",
       "    .dataframe thead th {\n",
       "        text-align: right;\n",
       "    }\n",
       "</style>\n",
       "<table border=\"1\" class=\"dataframe\">\n",
       "  <thead>\n",
       "    <tr style=\"text-align: right;\">\n",
       "      <th></th>\n",
       "      <th>Description</th>\n",
       "      <th>prob</th>\n",
       "      <th>avg_delay</th>\n",
       "      <th>median_delay</th>\n",
       "    </tr>\n",
       "  </thead>\n",
       "  <tbody>\n",
       "    <tr>\n",
       "      <th>0</th>\n",
       "      <td>Southwest Airlines Co.</td>\n",
       "      <td>0.50</td>\n",
       "      <td>25.37</td>\n",
       "      <td>12.0</td>\n",
       "    </tr>\n",
       "    <tr>\n",
       "      <th>1</th>\n",
       "      <td>Frontier Airlines Inc.</td>\n",
       "      <td>0.45</td>\n",
       "      <td>50.82</td>\n",
       "      <td>25.0</td>\n",
       "    </tr>\n",
       "    <tr>\n",
       "      <th>2</th>\n",
       "      <td>JetBlue Airways</td>\n",
       "      <td>0.42</td>\n",
       "      <td>46.95</td>\n",
       "      <td>24.0</td>\n",
       "    </tr>\n",
       "    <tr>\n",
       "      <th>3</th>\n",
       "      <td>PSA Airlines Inc.</td>\n",
       "      <td>0.38</td>\n",
       "      <td>39.98</td>\n",
       "      <td>17.0</td>\n",
       "    </tr>\n",
       "    <tr>\n",
       "      <th>4</th>\n",
       "      <td>American Airlines Inc.</td>\n",
       "      <td>0.35</td>\n",
       "      <td>37.03</td>\n",
       "      <td>16.0</td>\n",
       "    </tr>\n",
       "    <tr>\n",
       "      <th>5</th>\n",
       "      <td>Allegiant Air</td>\n",
       "      <td>0.34</td>\n",
       "      <td>49.59</td>\n",
       "      <td>22.0</td>\n",
       "    </tr>\n",
       "  </tbody>\n",
       "</table>\n",
       "</div>"
      ],
      "text/plain": [
       "              Description  prob  avg_delay  median_delay\n",
       "0  Southwest Airlines Co.  0.50      25.37          12.0\n",
       "1  Frontier Airlines Inc.  0.45      50.82          25.0\n",
       "2         JetBlue Airways  0.42      46.95          24.0\n",
       "3       PSA Airlines Inc.  0.38      39.98          17.0\n",
       "4  American Airlines Inc.  0.35      37.03          16.0\n",
       "5           Allegiant Air  0.34      49.59          22.0"
      ]
     },
     "execution_count": 49,
     "metadata": {},
     "output_type": "execute_result"
    }
   ],
   "source": [
    "# inner_join = sql_way.join(sql8, sql8.ORIGIN == sql_way.ORIGIN, how='inner')  # Origin column: emfanizetai 2 fores\n",
    "pin_join = pin21.join(pin22, on=['Description'], how='inner')   # => etsi swsto\n",
    "pin_join.orderBy(\"prob\", ascending=False).limit(6).toPandas()"
   ]
  },
  {
   "cell_type": "markdown",
   "metadata": {},
   "source": [
    "* After completing our analysis, we stop the Spark Session."
   ]
  },
  {
   "cell_type": "code",
   "execution_count": 50,
   "metadata": {},
   "outputs": [],
   "source": [
    "# In the end, stop the session\n",
    "spark.stop()"
   ]
  }
 ],
 "metadata": {
  "kernelspec": {
   "display_name": "Python 3",
   "language": "python",
   "name": "python3"
  },
  "language_info": {
   "codemirror_mode": {
    "name": "ipython",
    "version": 3
   },
   "file_extension": ".py",
   "mimetype": "text/x-python",
   "name": "python",
   "nbconvert_exporter": "python",
   "pygments_lexer": "ipython3",
   "version": "3.8.3"
  }
 },
 "nbformat": 4,
 "nbformat_minor": 4
}
